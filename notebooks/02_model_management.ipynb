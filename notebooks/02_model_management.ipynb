{
 "cells": [
  {
   "cell_type": "markdown",
   "id": "07405ba8-1e9a-464c-9865-84c9db193967",
   "metadata": {},
   "source": [
    "# Model Management - Despliegue de modelos de Machine Learning"
   ]
  },
  {
   "cell_type": "code",
   "execution_count": 68,
   "id": "1d05ddc2-e710-4cb0-96b4-77b4bbd1d382",
   "metadata": {},
   "outputs": [
    {
     "name": "stdout",
     "output_type": "stream",
     "text": [
      "abdala9512\n"
     ]
    }
   ],
   "source": [
    "# %pip install mlflow\n",
    "! source .env\n",
    "! echo $MLFLOW_TRACKING_USERNAME"
   ]
  },
  {
   "cell_type": "code",
   "execution_count": 73,
   "id": "8852838b-dc0e-42b2-99b1-c28eeec0ed66",
   "metadata": {},
   "outputs": [],
   "source": [
    "import mlflow\n",
    "import dotenv\n",
    "import json\n",
    "\n",
    "from typing import List\n"
   ]
  },
  {
   "cell_type": "code",
   "execution_count": 99,
   "id": "910818a2-7930-4ed2-a842-1952de7e2ad2",
   "metadata": {},
   "outputs": [
    {
     "data": {
      "text/plain": [
       "<Experiment: artifact_location='mlflow-artifacts:/7452221b1c9343fa95e5588a86ea9b93', creation_time=1711567929054, experiment_id='0', last_update_time=1711567929054, lifecycle_stage='active', name='DSRP Curso Despliegue de modelos de Machine Learning', tags={}>"
      ]
     },
     "execution_count": 99,
     "metadata": {},
     "output_type": "execute_result"
    }
   ],
   "source": [
    "config = dotenv.dotenv_values(\".env\")\n",
    "\n",
    "os.environ[\"MLFLOW_TRACKING_USERNAME\"] = config.get(\"MLFLOW_TRACKING_USERNAME\")\n",
    "os.environ[\"MLFLOW_TRACKING_PASSWORD\"] = config.get(\"MLFLOW_TRACKING_PASSWORD\")\n",
    "\n",
    "MLFLOW_TRACKING_URI = config.get(\"MLFLOW_TRACKING_URI\")\n",
    "MLFLOW_DSRP_EXPERIMENT = \"DSRP Curso Despliegue de modelos de Machine Learning\"\n",
    "MLFLOW_DSRP_MODEL_NAME = \"default_prediction_dsrp_model\"\n",
    "\n",
    "mlflow.set_tracking_uri(uri=MLFLOW_TRACKING_URI,)\n",
    "mlflow.set_experiment(experiment_name=MLFLOW_DSRP_EXPERIMENT)"
   ]
  },
  {
   "cell_type": "code",
   "execution_count": 94,
   "id": "25ba8a32-61b6-4751-9b41-56e5e3071213",
   "metadata": {},
   "outputs": [],
   "source": [
    "def search_best_model(\n",
    "        experiment_names: List[str] = [],\n",
    "        metric_name: str = \"r2\"\n",
    "    ) -> str:\n",
    "    \"\"\"Search Best Run ID of given experiments\n",
    "    \"\"\"\n",
    "    runs_  = mlflow.search_runs(experiment_names=experiment_names)\n",
    "    best_run = runs_.loc[runs_[f'metrics.{metric_name}'].idxmax()]\n",
    "\n",
    "    \n",
    "    return best_run['run_id'], best_run[\"artifact_uri\"]\n",
    "\n",
    "def get_artifact_uri_production(model_name: str) -> str:\n",
    "\n",
    "    mlflow.set_tracking_uri(MLFLOW_TRACKING_URI)\n",
    "\n",
    "    client = MlflowClient()\n",
    "    for mv in client.search_model_versions(f\"name='{model_name}'\"):\n",
    "        model = dict(mv)\n",
    "        if model[\"current_stage\"] == \"Production\":\n",
    "            production_model = model\n",
    "\n",
    "    _run_id = production_model.get(\"run_id\")\n",
    "    return mlflow.get_run(_run_id).info.artifact_uri"
   ]
  },
  {
   "cell_type": "code",
   "execution_count": 96,
   "id": "e0ef4864-8225-43f9-8f51-370c9bd78add",
   "metadata": {},
   "outputs": [],
   "source": [
    "best_run_id, best_run_art_uri= search_best_model(experiment_names=[\"DSRP Curso Despliegue de modelos de Machine Learning\"])"
   ]
  },
  {
   "cell_type": "code",
   "execution_count": 26,
   "id": "f9756f57-3eaa-4485-8e34-ad515db6eee3",
   "metadata": {},
   "outputs": [
    {
     "data": {
      "text/plain": [
       "'https://dagshub.com/abdala9512/dsrp-mlops-deployment.mlflow'"
      ]
     },
     "execution_count": 26,
     "metadata": {},
     "output_type": "execute_result"
    }
   ],
   "source": [
    "config.get(\"MLFLOW_TRACKING_URI\")"
   ]
  },
  {
   "cell_type": "code",
   "execution_count": 78,
   "id": "2fa55fcc-ca90-4ea7-8844-95626fcae153",
   "metadata": {},
   "outputs": [
    {
     "data": {
      "text/plain": [
       "[<Experiment: artifact_location='mlflow-artifacts:/7452221b1c9343fa95e5588a86ea9b93', creation_time=1711567929054, experiment_id='0', last_update_time=1711567929054, lifecycle_stage='active', name='DSRP Curso Despliegue de modelos de Machine Learning', tags={}>]"
      ]
     },
     "execution_count": 78,
     "metadata": {},
     "output_type": "execute_result"
    }
   ],
   "source": [
    "mlflow.search_experiments()"
   ]
  },
  {
   "cell_type": "code",
   "execution_count": 84,
   "id": "f90d631d-5f8d-4398-bf84-582d02ae91de",
   "metadata": {},
   "outputs": [
    {
     "data": {
      "text/plain": [
       "'ffbc160e02d5463db20fd3fbda614673'"
      ]
     },
     "execution_count": 84,
     "metadata": {},
     "output_type": "execute_result"
    }
   ],
   "source": [
    "runs_ = mlflow.search_runs(experiment_ids=[\"0\"])\n",
    "runs_.loc[runs_[f'metrics.r2'].idxmax()]['run_id']"
   ]
  },
  {
   "cell_type": "code",
   "execution_count": 40,
   "id": "24c75586-e8a8-4e61-ab5f-c79d7caf2ae0",
   "metadata": {},
   "outputs": [
    {
     "data": {
      "text/plain": [
       "'https://dagshub.com/abdala9512/dsrp-mlops-deployment.mlflow'"
      ]
     },
     "execution_count": 40,
     "metadata": {},
     "output_type": "execute_result"
    }
   ],
   "source": [
    "MLFLOW_TRACKING_URI"
   ]
  },
  {
   "cell_type": "code",
   "execution_count": 100,
   "id": "f3cf5afb-b571-4274-8cd2-05805c58327c",
   "metadata": {},
   "outputs": [
    {
     "name": "stderr",
     "output_type": "stream",
     "text": [
      "Successfully registered model 'default_prediction_dsrp_model'.\n",
      "2024/03/27 15:43:17 INFO mlflow.store.model_registry.abstract_store: Waiting up to 300 seconds for model version to finish creation. Model name: default_prediction_dsrp_model, version 1\n",
      "Created version '1' of model 'default_prediction_dsrp_model'.\n"
     ]
    },
    {
     "data": {
      "text/plain": [
       "<ModelVersion: aliases=[], creation_timestamp=1711572197999, current_stage='None', description='', last_updated_timestamp=1711572197999, name='default_prediction_dsrp_model', run_id='ffbc160e02d5463db20fd3fbda614673', run_link='', source='mlflow-artifacts:/7452221b1c9343fa95e5588a86ea9b93/ffbc160e02d5463db20fd3fbda614673/artifacts/mlflow-artifacts:/7452221b1c9343fa95e5588a86ea9b93/ffbc160e02d5463db20fd3fbda614673/artifacts', status='READY', status_message='', tags={}, user_id='', version='1'>"
      ]
     },
     "execution_count": 100,
     "metadata": {},
     "output_type": "execute_result"
    }
   ],
   "source": [
    "mlflow.register_model(\n",
    "    model_uri=f\"runs:/{best_run_id}/{best_run_art_uri}\",\n",
    "    name=MLFLOW_DSRP_MODEL_NAME\n",
    ")"
   ]
  },
  {
   "cell_type": "code",
   "execution_count": null,
   "id": "75e1b767-422b-4134-9328-c63d7aa3baca",
   "metadata": {},
   "outputs": [],
   "source": []
  }
 ],
 "metadata": {
  "kernelspec": {
   "display_name": "Python 3 (ipykernel)",
   "language": "python",
   "name": "python3"
  },
  "language_info": {
   "codemirror_mode": {
    "name": "ipython",
    "version": 3
   },
   "file_extension": ".py",
   "mimetype": "text/x-python",
   "name": "python",
   "nbconvert_exporter": "python",
   "pygments_lexer": "ipython3",
   "version": "3.11.5"
  }
 },
 "nbformat": 4,
 "nbformat_minor": 5
}
